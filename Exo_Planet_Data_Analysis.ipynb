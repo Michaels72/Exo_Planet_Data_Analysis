{
 "cells": [
  {
   "cell_type": "markdown",
   "metadata": {},
   "source": [
    "https://www.kaggle.com/mrisdal/open-exoplanet-catalogue/version/2"
   ]
  },
  {
   "cell_type": "code",
   "execution_count": 1,
   "metadata": {},
   "outputs": [],
   "source": [
    "import pandas as pd\n",
    "import matplotlib.pyplot as plt\n",
    "import numpy as np\n",
    "%matplotlib inline\n",
    "import warnings\n",
    "warnings.filterwarnings('ignore')"
   ]
  },
  {
   "cell_type": "raw",
   "metadata": {},
   "source": [
    "Nasa continues to report new findings of planets as reported recently in the New York Times:"
   ]
  },
  {
   "cell_type": "code",
   "execution_count": 3,
   "metadata": {},
   "outputs": [
    {
     "data": {
      "text/html": [
       "\n",
       "        <iframe\n",
       "            width=\"700\"\n",
       "            height=\"200\"\n",
       "            src=\"https://www.nytimes.com/2019/01/07/science/exoplanets-tess-nasa.html?action=click&module=Well&pgtype=Homepage&section=Science\"\n",
       "            frameborder=\"0\"\n",
       "            allowfullscreen\n",
       "        ></iframe>\n",
       "        "
      ],
      "text/plain": [
       "<IPython.lib.display.IFrame at 0x7fbc867e1eb8>"
      ]
     },
     "execution_count": 3,
     "metadata": {},
     "output_type": "execute_result"
    }
   ],
   "source": [
    "from IPython.display import IFrame\n",
    "\n",
    "\n",
    "IFrame(src= 'https://www.nytimes.com/2019/01/07/science/exoplanets-tess-nasa.html?action=click&module=Well&pgtype=Homepage&section=Science', width = 700, height = 200)"
   ]
  },
  {
   "cell_type": "code",
   "execution_count": 2,
   "metadata": {},
   "outputs": [],
   "source": [
    "planet = pd.read_csv('exos_new-imp2.csv')"
   ]
  },
  {
   "cell_type": "code",
   "execution_count": 3,
   "metadata": {},
   "outputs": [
    {
     "data": {
      "text/html": [
       "<div>\n",
       "<style scoped>\n",
       "    .dataframe tbody tr th:only-of-type {\n",
       "        vertical-align: middle;\n",
       "    }\n",
       "\n",
       "    .dataframe tbody tr th {\n",
       "        vertical-align: top;\n",
       "    }\n",
       "\n",
       "    .dataframe thead th {\n",
       "        text-align: right;\n",
       "    }\n",
       "</style>\n",
       "<table border=\"1\" class=\"dataframe\">\n",
       "  <thead>\n",
       "    <tr style=\"text-align: right;\">\n",
       "      <th></th>\n",
       "      <th>PlanetIdentifier</th>\n",
       "      <th>TypeFlag</th>\n",
       "      <th>PlanetaryMassJpt</th>\n",
       "      <th>RadiusJpt</th>\n",
       "      <th>PeriodDays</th>\n",
       "      <th>SemiMajorAxisAU</th>\n",
       "      <th>Eccentricity</th>\n",
       "      <th>PeriastronDeg</th>\n",
       "      <th>LongitudeDeg</th>\n",
       "      <th>AscendingNodeDeg</th>\n",
       "      <th>...</th>\n",
       "      <th>RightAscension</th>\n",
       "      <th>Declination</th>\n",
       "      <th>DistFromSunParsec</th>\n",
       "      <th>HostStarMassSlrMass</th>\n",
       "      <th>HostStarRadiusSlrRad</th>\n",
       "      <th>HostStarMetallicity</th>\n",
       "      <th>HostStarTempK</th>\n",
       "      <th>HostStarAgeGyr</th>\n",
       "      <th>ListsPlanetIsOn</th>\n",
       "      <th>Probability_of_life</th>\n",
       "    </tr>\n",
       "  </thead>\n",
       "  <tbody>\n",
       "    <tr>\n",
       "      <th>0</th>\n",
       "      <td>11 Com b</td>\n",
       "      <td>0</td>\n",
       "      <td>19.400</td>\n",
       "      <td>3.179701</td>\n",
       "      <td>326.03</td>\n",
       "      <td>1.290</td>\n",
       "      <td>0.231</td>\n",
       "      <td>94.800</td>\n",
       "      <td>412.169515</td>\n",
       "      <td>-84.182702</td>\n",
       "      <td>...</td>\n",
       "      <td>12 20 43</td>\n",
       "      <td>+17 47 34</td>\n",
       "      <td>88.900</td>\n",
       "      <td>2.70</td>\n",
       "      <td>19.000</td>\n",
       "      <td>-0.350</td>\n",
       "      <td>4742.0</td>\n",
       "      <td>5.246499</td>\n",
       "      <td>Confirmed planets</td>\n",
       "      <td>0</td>\n",
       "    </tr>\n",
       "    <tr>\n",
       "      <th>1</th>\n",
       "      <td>11 UMi b</td>\n",
       "      <td>0</td>\n",
       "      <td>11.200</td>\n",
       "      <td>3.117097</td>\n",
       "      <td>516.22</td>\n",
       "      <td>1.540</td>\n",
       "      <td>0.080</td>\n",
       "      <td>117.630</td>\n",
       "      <td>433.233616</td>\n",
       "      <td>237.056359</td>\n",
       "      <td>...</td>\n",
       "      <td>15 17 05.88899</td>\n",
       "      <td>+71 49 26.0466</td>\n",
       "      <td>122.100</td>\n",
       "      <td>1.80</td>\n",
       "      <td>24.080</td>\n",
       "      <td>0.040</td>\n",
       "      <td>4340.0</td>\n",
       "      <td>1.311730</td>\n",
       "      <td>Confirmed planets</td>\n",
       "      <td>0</td>\n",
       "    </tr>\n",
       "    <tr>\n",
       "      <th>2</th>\n",
       "      <td>14 And b</td>\n",
       "      <td>0</td>\n",
       "      <td>4.800</td>\n",
       "      <td>2.063338</td>\n",
       "      <td>185.84</td>\n",
       "      <td>0.830</td>\n",
       "      <td>0.000</td>\n",
       "      <td>0.000</td>\n",
       "      <td>573.470239</td>\n",
       "      <td>-95.384355</td>\n",
       "      <td>...</td>\n",
       "      <td>23 31 17.41346</td>\n",
       "      <td>+39 14 10.3092</td>\n",
       "      <td>79.200</td>\n",
       "      <td>2.20</td>\n",
       "      <td>11.000</td>\n",
       "      <td>-0.240</td>\n",
       "      <td>4813.0</td>\n",
       "      <td>-2.180942</td>\n",
       "      <td>Confirmed planets</td>\n",
       "      <td>0</td>\n",
       "    </tr>\n",
       "    <tr>\n",
       "      <th>3</th>\n",
       "      <td>14 Her b</td>\n",
       "      <td>0</td>\n",
       "      <td>4.975</td>\n",
       "      <td>0.538465</td>\n",
       "      <td>1766.00</td>\n",
       "      <td>2.864</td>\n",
       "      <td>0.359</td>\n",
       "      <td>22.230</td>\n",
       "      <td>225.775235</td>\n",
       "      <td>106.852163</td>\n",
       "      <td>...</td>\n",
       "      <td>16 10 23</td>\n",
       "      <td>+43 49 18</td>\n",
       "      <td>18.100</td>\n",
       "      <td>1.00</td>\n",
       "      <td>0.708</td>\n",
       "      <td>0.430</td>\n",
       "      <td>5311.0</td>\n",
       "      <td>9.272300</td>\n",
       "      <td>Confirmed planets</td>\n",
       "      <td>0</td>\n",
       "    </tr>\n",
       "    <tr>\n",
       "      <th>4</th>\n",
       "      <td>14 Her c</td>\n",
       "      <td>0</td>\n",
       "      <td>7.679</td>\n",
       "      <td>0.333758</td>\n",
       "      <td>9886.00</td>\n",
       "      <td>9.037</td>\n",
       "      <td>0.184</td>\n",
       "      <td>189.076</td>\n",
       "      <td>123.730898</td>\n",
       "      <td>332.066928</td>\n",
       "      <td>...</td>\n",
       "      <td>16 10 23</td>\n",
       "      <td>+43 49 18</td>\n",
       "      <td>18.100</td>\n",
       "      <td>1.00</td>\n",
       "      <td>0.708</td>\n",
       "      <td>0.430</td>\n",
       "      <td>5311.0</td>\n",
       "      <td>-0.323214</td>\n",
       "      <td>Controversial</td>\n",
       "      <td>0</td>\n",
       "    </tr>\n",
       "    <tr>\n",
       "      <th>5</th>\n",
       "      <td>16 Cygni B b</td>\n",
       "      <td>2</td>\n",
       "      <td>1.770</td>\n",
       "      <td>0.495553</td>\n",
       "      <td>799.50</td>\n",
       "      <td>1.720</td>\n",
       "      <td>0.689</td>\n",
       "      <td>83.400</td>\n",
       "      <td>138.845836</td>\n",
       "      <td>12.082893</td>\n",
       "      <td>...</td>\n",
       "      <td>19 41 48.95343</td>\n",
       "      <td>+50 31 30.2153</td>\n",
       "      <td>21.146</td>\n",
       "      <td>1.07</td>\n",
       "      <td>1.127</td>\n",
       "      <td>0.052</td>\n",
       "      <td>5750.0</td>\n",
       "      <td>6.800000</td>\n",
       "      <td>Confirmed planets, Planets in binary systems, ...</td>\n",
       "      <td>1</td>\n",
       "    </tr>\n",
       "    <tr>\n",
       "      <th>6</th>\n",
       "      <td>18 Del b</td>\n",
       "      <td>0</td>\n",
       "      <td>10.300</td>\n",
       "      <td>1.278876</td>\n",
       "      <td>993.30</td>\n",
       "      <td>2.600</td>\n",
       "      <td>0.080</td>\n",
       "      <td>166.100</td>\n",
       "      <td>371.034126</td>\n",
       "      <td>44.065829</td>\n",
       "      <td>...</td>\n",
       "      <td>20 58 25.93397</td>\n",
       "      <td>+10 50 21.4289</td>\n",
       "      <td>75.300</td>\n",
       "      <td>2.30</td>\n",
       "      <td>8.500</td>\n",
       "      <td>-0.052</td>\n",
       "      <td>4979.0</td>\n",
       "      <td>0.730065</td>\n",
       "      <td>Confirmed planets</td>\n",
       "      <td>0</td>\n",
       "    </tr>\n",
       "  </tbody>\n",
       "</table>\n",
       "<p>7 rows × 26 columns</p>\n",
       "</div>"
      ],
      "text/plain": [
       "  PlanetIdentifier  TypeFlag  PlanetaryMassJpt  RadiusJpt  PeriodDays  \\\n",
       "0         11 Com b         0            19.400   3.179701      326.03   \n",
       "1         11 UMi b         0            11.200   3.117097      516.22   \n",
       "2         14 And b         0             4.800   2.063338      185.84   \n",
       "3         14 Her b         0             4.975   0.538465     1766.00   \n",
       "4         14 Her c         0             7.679   0.333758     9886.00   \n",
       "5     16 Cygni B b         2             1.770   0.495553      799.50   \n",
       "6         18 Del b         0            10.300   1.278876      993.30   \n",
       "\n",
       "   SemiMajorAxisAU  Eccentricity  PeriastronDeg  LongitudeDeg  \\\n",
       "0            1.290         0.231         94.800    412.169515   \n",
       "1            1.540         0.080        117.630    433.233616   \n",
       "2            0.830         0.000          0.000    573.470239   \n",
       "3            2.864         0.359         22.230    225.775235   \n",
       "4            9.037         0.184        189.076    123.730898   \n",
       "5            1.720         0.689         83.400    138.845836   \n",
       "6            2.600         0.080        166.100    371.034126   \n",
       "\n",
       "   AscendingNodeDeg         ...           RightAscension     Declination  \\\n",
       "0        -84.182702         ...                 12 20 43       +17 47 34   \n",
       "1        237.056359         ...           15 17 05.88899  +71 49 26.0466   \n",
       "2        -95.384355         ...           23 31 17.41346  +39 14 10.3092   \n",
       "3        106.852163         ...                 16 10 23       +43 49 18   \n",
       "4        332.066928         ...                 16 10 23       +43 49 18   \n",
       "5         12.082893         ...           19 41 48.95343  +50 31 30.2153   \n",
       "6         44.065829         ...           20 58 25.93397  +10 50 21.4289   \n",
       "\n",
       "   DistFromSunParsec HostStarMassSlrMass  HostStarRadiusSlrRad  \\\n",
       "0             88.900                2.70                19.000   \n",
       "1            122.100                1.80                24.080   \n",
       "2             79.200                2.20                11.000   \n",
       "3             18.100                1.00                 0.708   \n",
       "4             18.100                1.00                 0.708   \n",
       "5             21.146                1.07                 1.127   \n",
       "6             75.300                2.30                 8.500   \n",
       "\n",
       "  HostStarMetallicity HostStarTempK HostStarAgeGyr  \\\n",
       "0              -0.350        4742.0       5.246499   \n",
       "1               0.040        4340.0       1.311730   \n",
       "2              -0.240        4813.0      -2.180942   \n",
       "3               0.430        5311.0       9.272300   \n",
       "4               0.430        5311.0      -0.323214   \n",
       "5               0.052        5750.0       6.800000   \n",
       "6              -0.052        4979.0       0.730065   \n",
       "\n",
       "                                     ListsPlanetIsOn  Probability_of_life  \n",
       "0                                  Confirmed planets                    0  \n",
       "1                                  Confirmed planets                    0  \n",
       "2                                  Confirmed planets                    0  \n",
       "3                                  Confirmed planets                    0  \n",
       "4                                      Controversial                    0  \n",
       "5  Confirmed planets, Planets in binary systems, ...                    1  \n",
       "6                                  Confirmed planets                    0  \n",
       "\n",
       "[7 rows x 26 columns]"
      ]
     },
     "execution_count": 3,
     "metadata": {},
     "output_type": "execute_result"
    }
   ],
   "source": [
    "planet.head(7)"
   ]
  },
  {
   "cell_type": "code",
   "execution_count": 4,
   "metadata": {},
   "outputs": [
    {
     "data": {
      "text/plain": [
       "(3584, 26)"
      ]
     },
     "execution_count": 4,
     "metadata": {},
     "output_type": "execute_result"
    }
   ],
   "source": [
    "planet.shape"
   ]
  },
  {
   "cell_type": "code",
   "execution_count": 5,
   "metadata": {},
   "outputs": [
    {
     "data": {
      "text/plain": [
       "Index(['PlanetIdentifier', 'TypeFlag', 'PlanetaryMassJpt', 'RadiusJpt',\n",
       "       'PeriodDays', 'SemiMajorAxisAU', 'Eccentricity', 'PeriastronDeg',\n",
       "       'LongitudeDeg', 'AscendingNodeDeg', 'InclinationDeg', 'SurfaceTempK',\n",
       "       'AgeGyr', 'DiscoveryMethod', 'DiscoveryYear', 'LastUpdated',\n",
       "       'RightAscension', 'Declination', 'DistFromSunParsec',\n",
       "       'HostStarMassSlrMass', 'HostStarRadiusSlrRad', 'HostStarMetallicity',\n",
       "       'HostStarTempK', 'HostStarAgeGyr', 'ListsPlanetIsOn',\n",
       "       'Probability_of_life'],\n",
       "      dtype='object')"
      ]
     },
     "execution_count": 5,
     "metadata": {},
     "output_type": "execute_result"
    }
   ],
   "source": [
    "planet.columns"
   ]
  },
  {
   "cell_type": "code",
   "execution_count": 6,
   "metadata": {
    "scrolled": true
   },
   "outputs": [
    {
     "name": "stdout",
     "output_type": "stream",
     "text": [
      "<class 'pandas.core.frame.DataFrame'>\n",
      "RangeIndex: 3584 entries, 0 to 3583\n",
      "Data columns (total 26 columns):\n",
      "PlanetIdentifier        3584 non-null object\n",
      "TypeFlag                3584 non-null int64\n",
      "PlanetaryMassJpt        3584 non-null float64\n",
      "RadiusJpt               3584 non-null float64\n",
      "PeriodDays              3584 non-null float64\n",
      "SemiMajorAxisAU         3584 non-null float64\n",
      "Eccentricity            3584 non-null float64\n",
      "PeriastronDeg           3584 non-null float64\n",
      "LongitudeDeg            3584 non-null float64\n",
      "AscendingNodeDeg        3584 non-null float64\n",
      "InclinationDeg          3584 non-null float64\n",
      "SurfaceTempK            3584 non-null float64\n",
      "AgeGyr                  3584 non-null float64\n",
      "DiscoveryMethod         3521 non-null object\n",
      "DiscoveryYear           3584 non-null float64\n",
      "LastUpdated             3576 non-null object\n",
      "RightAscension          3574 non-null object\n",
      "Declination             3574 non-null object\n",
      "DistFromSunParsec       3584 non-null float64\n",
      "HostStarMassSlrMass     3584 non-null float64\n",
      "HostStarRadiusSlrRad    3584 non-null float64\n",
      "HostStarMetallicity     3584 non-null float64\n",
      "HostStarTempK           3584 non-null float64\n",
      "HostStarAgeGyr          3584 non-null float64\n",
      "ListsPlanetIsOn         3584 non-null object\n",
      "Probability_of_life     3584 non-null int64\n",
      "dtypes: float64(18), int64(2), object(6)\n",
      "memory usage: 728.1+ KB\n"
     ]
    }
   ],
   "source": [
    "planet.info()"
   ]
  },
  {
   "cell_type": "code",
   "execution_count": 7,
   "metadata": {},
   "outputs": [
    {
     "data": {
      "text/plain": [
       "3584"
      ]
     },
     "execution_count": 7,
     "metadata": {},
     "output_type": "execute_result"
    }
   ],
   "source": [
    "len(planet.PlanetaryMassJpt)"
   ]
  },
  {
   "cell_type": "code",
   "execution_count": 8,
   "metadata": {},
   "outputs": [],
   "source": [
    "mass = planet['PlanetaryMassJpt'].dropna()"
   ]
  },
  {
   "cell_type": "code",
   "execution_count": 9,
   "metadata": {},
   "outputs": [
    {
     "data": {
      "image/png": "[encoded data removed]",
      "text/plain": [
       "<Figure size 432x288 with 1 Axes>"
      ]
     },
     "metadata": {},
     "output_type": "display_data"
    }
   ],
   "source": [
    "plt.hist(mass, bins = 100)\n",
    "plt.xlabel('Planetary Mass in relation to Jupyter')\n",
    "plt.ylabel('Counts of Planets')\n",
    "plt.show()"
   ]
  },
  {
   "cell_type": "code",
   "execution_count": 10,
   "metadata": {},
   "outputs": [
    {
     "data": {
      "text/plain": [
       "count    3584.000000\n",
       "mean        2.605599\n",
       "std        10.124907\n",
       "min       -31.843139\n",
       "25%        -0.586597\n",
       "50%         1.220000\n",
       "75%         6.500000\n",
       "max       263.000000\n",
       "Name: PlanetaryMassJpt, dtype: float64"
      ]
     },
     "execution_count": 10,
     "metadata": {},
     "output_type": "execute_result"
    }
   ],
   "source": [
    "planet.PlanetaryMassJpt.describe()"
   ]
  },
  {
   "cell_type": "raw",
   "metadata": {},
   "source": [
    "Most of the planets we are seeing are larger than Jupyter and as a result they will\n",
    "not be able to support life.  This is concluded due to the mean value of 2.89.  Large\n",
    "planets will not be able to support life due to increased radiation.  Also, our telescopes\n",
    "may not be sensitive enough to find smaller planets."
   ]
  },
  {
   "cell_type": "code",
   "execution_count": 11,
   "metadata": {},
   "outputs": [
    {
     "data": {
      "text/plain": [
       "3584"
      ]
     },
     "execution_count": 11,
     "metadata": {},
     "output_type": "execute_result"
    }
   ],
   "source": [
    "len(planet.RadiusJpt)"
   ]
  },
  {
   "cell_type": "code",
   "execution_count": 12,
   "metadata": {},
   "outputs": [],
   "source": [
    "radius = planet['RadiusJpt'].dropna()"
   ]
  },
  {
   "cell_type": "code",
   "execution_count": 13,
   "metadata": {},
   "outputs": [
    {
     "data": {
      "text/plain": [
       "3584"
      ]
     },
     "execution_count": 13,
     "metadata": {},
     "output_type": "execute_result"
    }
   ],
   "source": [
    "len(radius)"
   ]
  },
  {
   "cell_type": "code",
   "execution_count": 14,
   "metadata": {},
   "outputs": [
    {
     "data": {
      "image/png": "[encoded data removed]",
      "text/plain": [
       "<Figure size 432x288 with 1 Axes>"
      ]
     },
     "metadata": {},
     "output_type": "display_data"
    }
   ],
   "source": [
    "plt.hist(radius, bins = 50)\n",
    "plt.xlabel('Radius of Planet in relation to Jupyter')\n",
    "plt.ylabel('Counts of Planets')\n",
    "plt.show()"
   ]
  },
  {
   "cell_type": "code",
   "execution_count": 15,
   "metadata": {},
   "outputs": [
    {
     "data": {
      "text/plain": [
       "count    3584.000000\n",
       "mean        0.443712\n",
       "std         0.608361\n",
       "min        -3.460331\n",
       "25%         0.142265\n",
       "50%         0.228740\n",
       "75%         0.560455\n",
       "max         7.680271\n",
       "Name: RadiusJpt, dtype: float64"
      ]
     },
     "execution_count": 15,
     "metadata": {},
     "output_type": "execute_result"
    }
   ],
   "source": [
    "radius.describe()"
   ]
  },
  {
   "cell_type": "code",
   "execution_count": 16,
   "metadata": {
    "scrolled": true
   },
   "outputs": [
    {
     "data": {
      "text/html": [
       "<div>\n",
       "<style scoped>\n",
       "    .dataframe tbody tr th:only-of-type {\n",
       "        vertical-align: middle;\n",
       "    }\n",
       "\n",
       "    .dataframe tbody tr th {\n",
       "        vertical-align: top;\n",
       "    }\n",
       "\n",
       "    .dataframe thead th {\n",
       "        text-align: right;\n",
       "    }\n",
       "</style>\n",
       "<table border=\"1\" class=\"dataframe\">\n",
       "  <thead>\n",
       "    <tr style=\"text-align: right;\">\n",
       "      <th></th>\n",
       "      <th>PlanetIdentifier</th>\n",
       "      <th>TypeFlag</th>\n",
       "      <th>PlanetaryMassJpt</th>\n",
       "      <th>RadiusJpt</th>\n",
       "      <th>PeriodDays</th>\n",
       "      <th>SemiMajorAxisAU</th>\n",
       "      <th>Eccentricity</th>\n",
       "      <th>PeriastronDeg</th>\n",
       "      <th>LongitudeDeg</th>\n",
       "      <th>AscendingNodeDeg</th>\n",
       "      <th>...</th>\n",
       "      <th>RightAscension</th>\n",
       "      <th>Declination</th>\n",
       "      <th>DistFromSunParsec</th>\n",
       "      <th>HostStarMassSlrMass</th>\n",
       "      <th>HostStarRadiusSlrRad</th>\n",
       "      <th>HostStarMetallicity</th>\n",
       "      <th>HostStarTempK</th>\n",
       "      <th>HostStarAgeGyr</th>\n",
       "      <th>ListsPlanetIsOn</th>\n",
       "      <th>Probability_of_life</th>\n",
       "    </tr>\n",
       "  </thead>\n",
       "  <tbody>\n",
       "    <tr>\n",
       "      <th>104</th>\n",
       "      <td>Earth</td>\n",
       "      <td>0</td>\n",
       "      <td>0.003146</td>\n",
       "      <td>0.09113</td>\n",
       "      <td>365.2422</td>\n",
       "      <td>1.0</td>\n",
       "      <td>0.016732</td>\n",
       "      <td>102.930059</td>\n",
       "      <td>100.466916</td>\n",
       "      <td>-5.112604</td>\n",
       "      <td>...</td>\n",
       "      <td>NaN</td>\n",
       "      <td>NaN</td>\n",
       "      <td>2254.262308</td>\n",
       "      <td>1.0</td>\n",
       "      <td>1.0</td>\n",
       "      <td>1.000000e-08</td>\n",
       "      <td>5778.0</td>\n",
       "      <td>4.57</td>\n",
       "      <td>Solar System</td>\n",
       "      <td>1</td>\n",
       "    </tr>\n",
       "  </tbody>\n",
       "</table>\n",
       "<p>1 rows × 26 columns</p>\n",
       "</div>"
      ],
      "text/plain": [
       "    PlanetIdentifier  TypeFlag  PlanetaryMassJpt  RadiusJpt  PeriodDays  \\\n",
       "104            Earth         0          0.003146    0.09113    365.2422   \n",
       "\n",
       "     SemiMajorAxisAU  Eccentricity  PeriastronDeg  LongitudeDeg  \\\n",
       "104              1.0      0.016732     102.930059    100.466916   \n",
       "\n",
       "     AscendingNodeDeg         ...           RightAscension  Declination  \\\n",
       "104         -5.112604         ...                      NaN          NaN   \n",
       "\n",
       "     DistFromSunParsec HostStarMassSlrMass  HostStarRadiusSlrRad  \\\n",
       "104        2254.262308                 1.0                   1.0   \n",
       "\n",
       "    HostStarMetallicity HostStarTempK HostStarAgeGyr  ListsPlanetIsOn  \\\n",
       "104        1.000000e-08        5778.0           4.57     Solar System   \n",
       "\n",
       "     Probability_of_life  \n",
       "104                    1  \n",
       "\n",
       "[1 rows x 26 columns]"
      ]
     },
     "execution_count": 16,
     "metadata": {},
     "output_type": "execute_result"
    }
   ],
   "source": [
    "planet[planet.PlanetIdentifier == 'Earth']"
   ]
  },
  {
   "cell_type": "raw",
   "metadata": {},
   "source": [
    "Most of the planets found on average have a much larger radius than Earth (Earth is 0.09113 and the mean is 0.037119).  We are expecting to find life on a planet that is from one half to twice the size of Earth."
   ]
  },
  {
   "cell_type": "code",
   "execution_count": 17,
   "metadata": {},
   "outputs": [
    {
     "data": {
      "text/plain": [
       "count      3584.000000\n",
       "mean        566.043417\n",
       "std        7538.172337\n",
       "min      -18307.599127\n",
       "25%           4.639546\n",
       "50%          13.163515\n",
       "75%          52.637830\n",
       "max      320000.000000\n",
       "Name: PeriodDays, dtype: float64"
      ]
     },
     "execution_count": 17,
     "metadata": {},
     "output_type": "execute_result"
    }
   ],
   "source": [
    "planet.PeriodDays.describe()"
   ]
  },
  {
   "cell_type": "code",
   "execution_count": 18,
   "metadata": {},
   "outputs": [
    {
     "data": {
      "text/plain": [
       "3584"
      ]
     },
     "execution_count": 18,
     "metadata": {},
     "output_type": "execute_result"
    }
   ],
   "source": [
    "len(planet.PeriodDays)"
   ]
  },
  {
   "cell_type": "code",
   "execution_count": 19,
   "metadata": {},
   "outputs": [],
   "source": [
    "days = planet.PeriodDays.dropna()"
   ]
  },
  {
   "cell_type": "code",
   "execution_count": 20,
   "metadata": {},
   "outputs": [
    {
     "data": {
      "text/plain": [
       "3584"
      ]
     },
     "execution_count": 20,
     "metadata": {},
     "output_type": "execute_result"
    }
   ],
   "source": [
    "len(days)"
   ]
  },
  {
   "cell_type": "code",
   "execution_count": 21,
   "metadata": {},
   "outputs": [
    {
     "data": {
      "image/png": "[encoded data removed]",
      "text/plain": [
       "<Figure size 432x288 with 1 Axes>"
      ]
     },
     "metadata": {},
     "output_type": "display_data"
    }
   ],
   "source": [
    "plt.hist(days, bins=len(days))\n",
    "plt.xlim(0,1000)\n",
    "plt.xlabel('Period of Days')\n",
    "plt.ylabel('Counts of Planets')\n",
    "plt.show()"
   ]
  },
  {
   "cell_type": "code",
   "execution_count": 22,
   "metadata": {},
   "outputs": [
    {
     "data": {
      "text/plain": [
       "count      3584.000000\n",
       "mean        566.043417\n",
       "std        7538.172337\n",
       "min      -18307.599127\n",
       "25%           4.639546\n",
       "50%          13.163515\n",
       "75%          52.637830\n",
       "max      320000.000000\n",
       "Name: PeriodDays, dtype: float64"
      ]
     },
     "execution_count": 22,
     "metadata": {},
     "output_type": "execute_result"
    }
   ],
   "source": [
    "days.describe()"
   ]
  },
  {
   "cell_type": "raw",
   "metadata": {},
   "source": [
    "We expect to find life on planets that are located similar to Venus to Mars from their sun.  The sun would also have to have similar proportions to our as well."
   ]
  },
  {
   "cell_type": "code",
   "execution_count": 23,
   "metadata": {},
   "outputs": [
    {
     "data": {
      "text/plain": [
       "count    3584.000000\n",
       "mean      769.007793\n",
       "std       580.083926\n",
       "min     -4720.494459\n",
       "25%       381.537939\n",
       "50%       733.879200\n",
       "75%      1101.434164\n",
       "max      7112.000000\n",
       "Name: SurfaceTempK, dtype: float64"
      ]
     },
     "execution_count": 23,
     "metadata": {},
     "output_type": "execute_result"
    }
   ],
   "source": [
    "planet.SurfaceTempK.describe()"
   ]
  },
  {
   "cell_type": "code",
   "execution_count": 24,
   "metadata": {},
   "outputs": [
    {
     "data": {
      "text/plain": [
       "3584"
      ]
     },
     "execution_count": 24,
     "metadata": {},
     "output_type": "execute_result"
    }
   ],
   "source": [
    "len(planet.SurfaceTempK)"
   ]
  },
  {
   "cell_type": "code",
   "execution_count": 25,
   "metadata": {},
   "outputs": [],
   "source": [
    "temp = planet.SurfaceTempK.dropna()"
   ]
  },
  {
   "cell_type": "code",
   "execution_count": 26,
   "metadata": {},
   "outputs": [
    {
     "data": {
      "text/plain": [
       "3584"
      ]
     },
     "execution_count": 26,
     "metadata": {},
     "output_type": "execute_result"
    }
   ],
   "source": [
    "len(temp)"
   ]
  },
  {
   "cell_type": "code",
   "execution_count": 27,
   "metadata": {},
   "outputs": [
    {
     "data": {
      "image/png": "[encoded data removed]",
      "text/plain": [
       "<Figure size 432x288 with 1 Axes>"
      ]
     },
     "metadata": {},
     "output_type": "display_data"
    }
   ],
   "source": [
    "plt.hist(temp, bins=len(temp))\n",
    "plt.xlim(0,4000)\n",
    "plt.xlabel('Surface Temperature')\n",
    "plt.ylabel('Counts of Planets')\n",
    "plt.show()"
   ]
  },
  {
   "cell_type": "code",
   "execution_count": 28,
   "metadata": {},
   "outputs": [
    {
     "data": {
      "text/plain": [
       "transit         2712\n",
       "RV               692\n",
       "imaging           52\n",
       "microlensing      40\n",
       "timing            25\n",
       "Name: DiscoveryMethod, dtype: int64"
      ]
     },
     "execution_count": 28,
     "metadata": {},
     "output_type": "execute_result"
    }
   ],
   "source": [
    "planet.DiscoveryMethod.value_counts()"
   ]
  },
  {
   "cell_type": "code",
   "execution_count": 29,
   "metadata": {},
   "outputs": [],
   "source": [
    "#dmethod = planet.DiscoveryMethod.dropna()"
   ]
  },
  {
   "cell_type": "code",
   "execution_count": 30,
   "metadata": {},
   "outputs": [],
   "source": [
    "#dmethod.value_counts()"
   ]
  },
  {
   "cell_type": "code",
   "execution_count": 31,
   "metadata": {},
   "outputs": [
    {
     "data": {
      "image/png": "[encoded data removed]",
      "text/plain": [
       "<Figure size 432x288 with 1 Axes>"
      ]
     },
     "metadata": {},
     "output_type": "display_data"
    }
   ],
   "source": [
    "planet.DiscoveryMethod.value_counts().plot.bar()\n",
    "plt.show()"
   ]
  },
  {
   "cell_type": "code",
   "execution_count": 32,
   "metadata": {},
   "outputs": [],
   "source": [
    "x = planet[['DiscoveryMethod', 'DiscoveryYear']].dropna()"
   ]
  },
  {
   "cell_type": "code",
   "execution_count": 33,
   "metadata": {},
   "outputs": [
    {
     "data": {
      "image/png": "[encoded data removed]",
      "text/plain": [
       "<Figure size 432x288 with 1 Axes>"
      ]
     },
     "metadata": {},
     "output_type": "display_data"
    }
   ],
   "source": [
    "(x.DiscoveryYear.astype(int)).value_counts().plot.bar()\n",
    "plt.show()"
   ]
  },
  {
   "cell_type": "code",
   "execution_count": 34,
   "metadata": {},
   "outputs": [
    {
     "data": {
      "image/png": "[encoded data removed]",
      "text/plain": [
       "<Figure size 432x288 with 1 Axes>"
      ]
     },
     "metadata": {},
     "output_type": "display_data"
    }
   ],
   "source": [
    "planet.DiscoveryYear.hist(bins =200)\n",
    "plt.xlim(1990,2020)\n",
    "plt.ylabel('Number of Planets Discovered')\n",
    "plt.xlabel('Year')\n",
    "plt.show()"
   ]
  },
  {
   "cell_type": "raw",
   "metadata": {},
   "source": [
    "Most of the planets were dicovered by Kepler Telescope which was launched into space\n",
    "in 2013.  Most of the planets were discovered between 2015 and 2017."
   ]
  },
  {
   "cell_type": "code",
   "execution_count": 35,
   "metadata": {},
   "outputs": [
    {
     "data": {
      "text/html": [
       "<div>\n",
       "<style scoped>\n",
       "    .dataframe tbody tr th:only-of-type {\n",
       "        vertical-align: middle;\n",
       "    }\n",
       "\n",
       "    .dataframe tbody tr th {\n",
       "        vertical-align: top;\n",
       "    }\n",
       "\n",
       "    .dataframe thead th {\n",
       "        text-align: right;\n",
       "    }\n",
       "</style>\n",
       "<table border=\"1\" class=\"dataframe\">\n",
       "  <thead>\n",
       "    <tr style=\"text-align: right;\">\n",
       "      <th></th>\n",
       "      <th>PlanetIdentifier</th>\n",
       "      <th>DiscoveryYear</th>\n",
       "    </tr>\n",
       "  </thead>\n",
       "  <tbody>\n",
       "    <tr>\n",
       "      <th>3419</th>\n",
       "      <td>Uranus</td>\n",
       "      <td>1781.0</td>\n",
       "    </tr>\n",
       "  </tbody>\n",
       "</table>\n",
       "</div>"
      ],
      "text/plain": [
       "     PlanetIdentifier  DiscoveryYear\n",
       "3419           Uranus         1781.0"
      ]
     },
     "execution_count": 35,
     "metadata": {},
     "output_type": "execute_result"
    }
   ],
   "source": [
    "planet[['PlanetIdentifier','DiscoveryYear']][planet.DiscoveryYear == planet.DiscoveryYear.min()]"
   ]
  },
  {
   "cell_type": "raw",
   "metadata": {},
   "source": [
    "1781 was the first year in which another planet was discovered.  This planet is Uranus."
   ]
  },
  {
   "cell_type": "code",
   "execution_count": 36,
   "metadata": {},
   "outputs": [
    {
     "data": {
      "text/plain": [
       "count      3584.000000\n",
       "mean        566.043417\n",
       "std        7538.172337\n",
       "min      -18307.599127\n",
       "25%           4.639546\n",
       "50%          13.163515\n",
       "75%          52.637830\n",
       "max      320000.000000\n",
       "Name: PeriodDays, dtype: float64"
      ]
     },
     "execution_count": 36,
     "metadata": {},
     "output_type": "execute_result"
    }
   ],
   "source": [
    "planet.PeriodDays.describe()"
   ]
  },
  {
   "cell_type": "code",
   "execution_count": 37,
   "metadata": {},
   "outputs": [
    {
     "data": {
      "text/html": [
       "<div>\n",
       "<style scoped>\n",
       "    .dataframe tbody tr th:only-of-type {\n",
       "        vertical-align: middle;\n",
       "    }\n",
       "\n",
       "    .dataframe tbody tr th {\n",
       "        vertical-align: top;\n",
       "    }\n",
       "\n",
       "    .dataframe thead th {\n",
       "        text-align: right;\n",
       "    }\n",
       "</style>\n",
       "<table border=\"1\" class=\"dataframe\">\n",
       "  <thead>\n",
       "    <tr style=\"text-align: right;\">\n",
       "      <th></th>\n",
       "      <th>PlanetIdentifier</th>\n",
       "      <th>PeriodDays</th>\n",
       "      <th>SemiMajorAxisAU</th>\n",
       "    </tr>\n",
       "  </thead>\n",
       "  <tbody>\n",
       "    <tr>\n",
       "      <th>174</th>\n",
       "      <td>Fomalhaut b</td>\n",
       "      <td>320000.0</td>\n",
       "      <td>177.0</td>\n",
       "    </tr>\n",
       "  </tbody>\n",
       "</table>\n",
       "</div>"
      ],
      "text/plain": [
       "    PlanetIdentifier  PeriodDays  SemiMajorAxisAU\n",
       "174      Fomalhaut b    320000.0            177.0"
      ]
     },
     "execution_count": 37,
     "metadata": {},
     "output_type": "execute_result"
    }
   ],
   "source": [
    "planet[['PlanetIdentifier','PeriodDays','SemiMajorAxisAU']][planet.PeriodDays == planet.PeriodDays.max()]"
   ]
  },
  {
   "cell_type": "raw",
   "metadata": {},
   "source": [
    "The planet 'Fomalhaut b' is 177 times the axis of Earth and takes 320,000 days to go around its star."
   ]
  },
  {
   "cell_type": "code",
   "execution_count": 38,
   "metadata": {},
   "outputs": [
    {
     "data": {
      "text/plain": [
       "count    3584.000000\n",
       "mean        1.061272\n",
       "std        18.331247\n",
       "min       -53.951694\n",
       "25%        -3.825256\n",
       "50%         0.189656\n",
       "75%         5.321737\n",
       "max       662.000000\n",
       "Name: SemiMajorAxisAU, dtype: float64"
      ]
     },
     "execution_count": 38,
     "metadata": {},
     "output_type": "execute_result"
    }
   ],
   "source": [
    "planet.SemiMajorAxisAU.describe()"
   ]
  },
  {
   "cell_type": "code",
   "execution_count": 39,
   "metadata": {},
   "outputs": [
    {
     "data": {
      "text/html": [
       "<div>\n",
       "<style scoped>\n",
       "    .dataframe tbody tr th:only-of-type {\n",
       "        vertical-align: middle;\n",
       "    }\n",
       "\n",
       "    .dataframe tbody tr th {\n",
       "        vertical-align: top;\n",
       "    }\n",
       "\n",
       "    .dataframe thead th {\n",
       "        text-align: right;\n",
       "    }\n",
       "</style>\n",
       "<table border=\"1\" class=\"dataframe\">\n",
       "  <thead>\n",
       "    <tr style=\"text-align: right;\">\n",
       "      <th></th>\n",
       "      <th>PlanetIdentifier</th>\n",
       "      <th>SemiMajorAxisAU</th>\n",
       "      <th>PeriodDays</th>\n",
       "    </tr>\n",
       "  </thead>\n",
       "  <tbody>\n",
       "    <tr>\n",
       "      <th>101</th>\n",
       "      <td>CVSO 30 c</td>\n",
       "      <td>662.0</td>\n",
       "      <td>53538.098155</td>\n",
       "    </tr>\n",
       "  </tbody>\n",
       "</table>\n",
       "</div>"
      ],
      "text/plain": [
       "    PlanetIdentifier  SemiMajorAxisAU    PeriodDays\n",
       "101        CVSO 30 c            662.0  53538.098155"
      ]
     },
     "execution_count": 39,
     "metadata": {},
     "output_type": "execute_result"
    }
   ],
   "source": [
    "planet[['PlanetIdentifier','SemiMajorAxisAU','PeriodDays']][planet.SemiMajorAxisAU == planet.SemiMajorAxisAU.max()]"
   ]
  },
  {
   "cell_type": "raw",
   "metadata": {},
   "source": [
    "The planet 'CVSO 30 c' is 662 times the axis of Earth and takes 53,538 days to go around its star."
   ]
  },
  {
   "cell_type": "code",
   "execution_count": 40,
   "metadata": {},
   "outputs": [
    {
     "data": {
      "text/html": [
       "<div>\n",
       "<style scoped>\n",
       "    .dataframe tbody tr th:only-of-type {\n",
       "        vertical-align: middle;\n",
       "    }\n",
       "\n",
       "    .dataframe tbody tr th {\n",
       "        vertical-align: top;\n",
       "    }\n",
       "\n",
       "    .dataframe thead th {\n",
       "        text-align: right;\n",
       "    }\n",
       "</style>\n",
       "<table border=\"1\" class=\"dataframe\">\n",
       "  <thead>\n",
       "    <tr style=\"text-align: right;\">\n",
       "      <th></th>\n",
       "      <th>PlanetIdentifier</th>\n",
       "      <th>TypeFlag</th>\n",
       "      <th>PlanetaryMassJpt</th>\n",
       "      <th>RadiusJpt</th>\n",
       "      <th>PeriodDays</th>\n",
       "      <th>SemiMajorAxisAU</th>\n",
       "      <th>Eccentricity</th>\n",
       "      <th>PeriastronDeg</th>\n",
       "      <th>LongitudeDeg</th>\n",
       "      <th>AscendingNodeDeg</th>\n",
       "      <th>...</th>\n",
       "      <th>RightAscension</th>\n",
       "      <th>Declination</th>\n",
       "      <th>DistFromSunParsec</th>\n",
       "      <th>HostStarMassSlrMass</th>\n",
       "      <th>HostStarRadiusSlrRad</th>\n",
       "      <th>HostStarMetallicity</th>\n",
       "      <th>HostStarTempK</th>\n",
       "      <th>HostStarAgeGyr</th>\n",
       "      <th>ListsPlanetIsOn</th>\n",
       "      <th>Probability_of_life</th>\n",
       "    </tr>\n",
       "  </thead>\n",
       "  <tbody>\n",
       "    <tr>\n",
       "      <th>104</th>\n",
       "      <td>Earth</td>\n",
       "      <td>0</td>\n",
       "      <td>0.003146</td>\n",
       "      <td>0.09113</td>\n",
       "      <td>365.2422</td>\n",
       "      <td>1.0</td>\n",
       "      <td>0.016732</td>\n",
       "      <td>102.930059</td>\n",
       "      <td>100.466916</td>\n",
       "      <td>-5.112604</td>\n",
       "      <td>...</td>\n",
       "      <td>NaN</td>\n",
       "      <td>NaN</td>\n",
       "      <td>2254.262308</td>\n",
       "      <td>1.0</td>\n",
       "      <td>1.0</td>\n",
       "      <td>1.000000e-08</td>\n",
       "      <td>5778.0</td>\n",
       "      <td>4.57</td>\n",
       "      <td>Solar System</td>\n",
       "      <td>1</td>\n",
       "    </tr>\n",
       "  </tbody>\n",
       "</table>\n",
       "<p>1 rows × 26 columns</p>\n",
       "</div>"
      ],
      "text/plain": [
       "    PlanetIdentifier  TypeFlag  PlanetaryMassJpt  RadiusJpt  PeriodDays  \\\n",
       "104            Earth         0          0.003146    0.09113    365.2422   \n",
       "\n",
       "     SemiMajorAxisAU  Eccentricity  PeriastronDeg  LongitudeDeg  \\\n",
       "104              1.0      0.016732     102.930059    100.466916   \n",
       "\n",
       "     AscendingNodeDeg         ...           RightAscension  Declination  \\\n",
       "104         -5.112604         ...                      NaN          NaN   \n",
       "\n",
       "     DistFromSunParsec HostStarMassSlrMass  HostStarRadiusSlrRad  \\\n",
       "104        2254.262308                 1.0                   1.0   \n",
       "\n",
       "    HostStarMetallicity HostStarTempK HostStarAgeGyr  ListsPlanetIsOn  \\\n",
       "104        1.000000e-08        5778.0           4.57     Solar System   \n",
       "\n",
       "     Probability_of_life  \n",
       "104                    1  \n",
       "\n",
       "[1 rows x 26 columns]"
      ]
     },
     "execution_count": 40,
     "metadata": {},
     "output_type": "execute_result"
    }
   ],
   "source": [
    "planet[planet.PlanetIdentifier =='Earth']"
   ]
  },
  {
   "cell_type": "code",
   "execution_count": 41,
   "metadata": {},
   "outputs": [],
   "source": [
    "SemiAU = (planet.SemiMajorAxisAU.dropna())"
   ]
  },
  {
   "cell_type": "code",
   "execution_count": 42,
   "metadata": {},
   "outputs": [],
   "source": [
    "pdays =(planet.PeriodDays.dropna())"
   ]
  },
  {
   "cell_type": "code",
   "execution_count": 43,
   "metadata": {},
   "outputs": [],
   "source": [
    "pdaysemi = planet[['PeriodDays','SemiMajorAxisAU']]"
   ]
  },
  {
   "cell_type": "code",
   "execution_count": 44,
   "metadata": {},
   "outputs": [],
   "source": [
    "pdaysemi.PeriodDays = np.log(pdaysemi.PeriodDays)\n",
    "pdaysemi.SemiMajorAxisAU = np.log(pdaysemi.SemiMajorAxisAU)"
   ]
  },
  {
   "cell_type": "code",
   "execution_count": 45,
   "metadata": {},
   "outputs": [],
   "source": [
    "pdaysemi = pdaysemi.dropna()"
   ]
  },
  {
   "cell_type": "code",
   "execution_count": 46,
   "metadata": {},
   "outputs": [
    {
     "data": {
      "image/png": "[encoded data removed]",
      "text/plain": [
       "<Figure size 576x432 with 1 Axes>"
      ]
     },
     "metadata": {},
     "output_type": "display_data"
    }
   ],
   "source": [
    "import seaborn as sns\n",
    "g = sns.pairplot(pdaysemi, x_vars = ['PeriodDays'], y_vars = ['SemiMajorAxisAU'], kind = 'reg')\n",
    "g.fig.set_size_inches(8, 6)\n",
    "plt.show()"
   ]
  },
  {
   "cell_type": "raw",
   "metadata": {},
   "source": [
    "The linear relationship shown in the graph proves the larger the distance of the planet from their star the longer it will take to rotate around their sun and therefore having a longer year relative to Earth.  The greater the distance from the star the less likelihood of life on that planet."
   ]
  },
  {
   "cell_type": "code",
   "execution_count": 48,
   "metadata": {},
   "outputs": [
    {
     "data": {
      "text/plain": [
       "count    3584.000000\n",
       "mean        0.983766\n",
       "std         0.316873\n",
       "min         0.012000\n",
       "25%         0.830000\n",
       "50%         0.977000\n",
       "75%         1.110000\n",
       "max         4.500000\n",
       "Name: HostStarMassSlrMass, dtype: float64"
      ]
     },
     "execution_count": 48,
     "metadata": {},
     "output_type": "execute_result"
    }
   ],
   "source": [
    "planet.HostStarMassSlrMass.describe()"
   ]
  },
  {
   "cell_type": "code",
   "execution_count": 111,
   "metadata": {},
   "outputs": [
    {
     "data": {
      "text/html": [
       "<div>\n",
       "<style scoped>\n",
       "    .dataframe tbody tr th:only-of-type {\n",
       "        vertical-align: middle;\n",
       "    }\n",
       "\n",
       "    .dataframe tbody tr th {\n",
       "        vertical-align: top;\n",
       "    }\n",
       "\n",
       "    .dataframe thead th {\n",
       "        text-align: right;\n",
       "    }\n",
       "</style>\n",
       "<table border=\"1\" class=\"dataframe\">\n",
       "  <thead>\n",
       "    <tr style=\"text-align: right;\">\n",
       "      <th></th>\n",
       "      <th>PlanetIdentifier</th>\n",
       "      <th>HostStarMassSlrMass</th>\n",
       "      <th>HostStarTempK</th>\n",
       "    </tr>\n",
       "  </thead>\n",
       "  <tbody>\n",
       "    <tr>\n",
       "      <th>443</th>\n",
       "      <td>HD 13189 b</td>\n",
       "      <td>4.5</td>\n",
       "      <td>5150.0</td>\n",
       "    </tr>\n",
       "  </tbody>\n",
       "</table>\n",
       "</div>"
      ],
      "text/plain": [
       "    PlanetIdentifier  HostStarMassSlrMass  HostStarTempK\n",
       "443       HD 13189 b                  4.5         5150.0"
      ]
     },
     "execution_count": 111,
     "metadata": {},
     "output_type": "execute_result"
    }
   ],
   "source": [
    "planet[['PlanetIdentifier','HostStarMassSlrMass','HostStarTempK']][planet.HostStarMassSlrMass == planet.HostStarMassSlrMass.max()]"
   ]
  },
  {
   "cell_type": "code",
   "execution_count": 50,
   "metadata": {},
   "outputs": [
    {
     "data": {
      "text/plain": [
       "count     3584.000000\n",
       "mean      5520.376527\n",
       "std       1210.211876\n",
       "min        540.000000\n",
       "25%       5106.000000\n",
       "50%       5636.000000\n",
       "75%       5944.250000\n",
       "max      29300.000000\n",
       "Name: HostStarTempK, dtype: float64"
      ]
     },
     "execution_count": 50,
     "metadata": {},
     "output_type": "execute_result"
    }
   ],
   "source": [
    "planet.HostStarTempK.describe()"
   ]
  },
  {
   "cell_type": "code",
   "execution_count": 112,
   "metadata": {},
   "outputs": [
    {
     "data": {
      "text/html": [
       "<div>\n",
       "<style scoped>\n",
       "    .dataframe tbody tr th:only-of-type {\n",
       "        vertical-align: middle;\n",
       "    }\n",
       "\n",
       "    .dataframe tbody tr th {\n",
       "        vertical-align: top;\n",
       "    }\n",
       "\n",
       "    .dataframe thead th {\n",
       "        text-align: right;\n",
       "    }\n",
       "</style>\n",
       "<table border=\"1\" class=\"dataframe\">\n",
       "  <thead>\n",
       "    <tr style=\"text-align: right;\">\n",
       "      <th></th>\n",
       "      <th>PlanetIdentifier</th>\n",
       "      <th>HostStarTempK</th>\n",
       "      <th>HostStarMassSlrMass</th>\n",
       "    </tr>\n",
       "  </thead>\n",
       "  <tbody>\n",
       "    <tr>\n",
       "      <th>3422</th>\n",
       "      <td>V391 Peg b</td>\n",
       "      <td>29300.0</td>\n",
       "      <td>0.5</td>\n",
       "    </tr>\n",
       "  </tbody>\n",
       "</table>\n",
       "</div>"
      ],
      "text/plain": [
       "     PlanetIdentifier  HostStarTempK  HostStarMassSlrMass\n",
       "3422       V391 Peg b        29300.0                  0.5"
      ]
     },
     "execution_count": 112,
     "metadata": {},
     "output_type": "execute_result"
    }
   ],
   "source": [
    "planet[['PlanetIdentifier','HostStarTempK','HostStarMassSlrMass']][planet.HostStarTempK == planet.HostStarTempK.max()]"
   ]
  },
  {
   "cell_type": "code",
   "execution_count": 115,
   "metadata": {},
   "outputs": [],
   "source": [
    "startemp = planet[['HostStarTempK', 'HostStarMassSlrMass']]\n",
    "startemp = startemp.dropna()"
   ]
  },
  {
   "cell_type": "code",
   "execution_count": 116,
   "metadata": {},
   "outputs": [
    {
     "data": {
      "image/png": "[encoded data removed]",
      "text/plain": [
       "<Figure size 576x432 with 1 Axes>"
      ]
     },
     "metadata": {},
     "output_type": "display_data"
    }
   ],
   "source": [
    "g1 = sns.pairplot(startemp, x_vars = ['HostStarMassSlrMass'], y_vars = ['HostStarTempK'], kind = 'reg')\n",
    "g1.fig.set_size_inches(8, 6)\n",
    "plt.show()"
   ]
  },
  {
   "cell_type": "raw",
   "metadata": {},
   "source": [
    "The relationship between the star mass and its temperature shows that there is a limit to how hot a star will become based on its size.  These stars appear to be able to support life as they have a similar mass and temperature to our sun."
   ]
  },
  {
   "cell_type": "code",
   "execution_count": 55,
   "metadata": {},
   "outputs": [
    {
     "data": {
      "text/plain": [
       "count    3584.000000\n",
       "mean        2.605599\n",
       "std        10.124907\n",
       "min       -31.843139\n",
       "25%        -0.586597\n",
       "50%         1.220000\n",
       "75%         6.500000\n",
       "max       263.000000\n",
       "Name: PlanetaryMassJpt, dtype: float64"
      ]
     },
     "execution_count": 55,
     "metadata": {},
     "output_type": "execute_result"
    }
   ],
   "source": [
    "planet.PlanetaryMassJpt.describe()"
   ]
  },
  {
   "cell_type": "code",
   "execution_count": 118,
   "metadata": {},
   "outputs": [
    {
     "data": {
      "text/html": [
       "<div>\n",
       "<style scoped>\n",
       "    .dataframe tbody tr th:only-of-type {\n",
       "        vertical-align: middle;\n",
       "    }\n",
       "\n",
       "    .dataframe tbody tr th {\n",
       "        vertical-align: top;\n",
       "    }\n",
       "\n",
       "    .dataframe thead th {\n",
       "        text-align: right;\n",
       "    }\n",
       "</style>\n",
       "<table border=\"1\" class=\"dataframe\">\n",
       "  <thead>\n",
       "    <tr style=\"text-align: right;\">\n",
       "      <th></th>\n",
       "      <th>PlanetIdentifier</th>\n",
       "      <th>PlanetaryMassJpt</th>\n",
       "      <th>HostStarMassSlrMass</th>\n",
       "    </tr>\n",
       "  </thead>\n",
       "  <tbody>\n",
       "    <tr>\n",
       "      <th>511</th>\n",
       "      <td>HD 156846 b</td>\n",
       "      <td>263.0</td>\n",
       "      <td>1.35</td>\n",
       "    </tr>\n",
       "  </tbody>\n",
       "</table>\n",
       "</div>"
      ],
      "text/plain": [
       "    PlanetIdentifier  PlanetaryMassJpt  HostStarMassSlrMass\n",
       "511      HD 156846 b             263.0                 1.35"
      ]
     },
     "execution_count": 118,
     "metadata": {},
     "output_type": "execute_result"
    }
   ],
   "source": [
    "planet[['PlanetIdentifier','PlanetaryMassJpt','HostStarMassSlrMass']][planet.PlanetaryMassJpt == planet.PlanetaryMassJpt.max()]"
   ]
  },
  {
   "cell_type": "code",
   "execution_count": 57,
   "metadata": {},
   "outputs": [
    {
     "data": {
      "text/plain": [
       "count    3584.000000\n",
       "mean        0.983766\n",
       "std         0.316873\n",
       "min         0.012000\n",
       "25%         0.830000\n",
       "50%         0.977000\n",
       "75%         1.110000\n",
       "max         4.500000\n",
       "Name: HostStarMassSlrMass, dtype: float64"
      ]
     },
     "execution_count": 57,
     "metadata": {},
     "output_type": "execute_result"
    }
   ],
   "source": [
    "planet.HostStarMassSlrMass.describe()"
   ]
  },
  {
   "cell_type": "code",
   "execution_count": 119,
   "metadata": {},
   "outputs": [
    {
     "data": {
      "text/html": [
       "<div>\n",
       "<style scoped>\n",
       "    .dataframe tbody tr th:only-of-type {\n",
       "        vertical-align: middle;\n",
       "    }\n",
       "\n",
       "    .dataframe tbody tr th {\n",
       "        vertical-align: top;\n",
       "    }\n",
       "\n",
       "    .dataframe thead th {\n",
       "        text-align: right;\n",
       "    }\n",
       "</style>\n",
       "<table border=\"1\" class=\"dataframe\">\n",
       "  <thead>\n",
       "    <tr style=\"text-align: right;\">\n",
       "      <th></th>\n",
       "      <th>PlanetIdentifier</th>\n",
       "      <th>HostStarMassSlrMass</th>\n",
       "      <th>PlanetaryMassJpt</th>\n",
       "    </tr>\n",
       "  </thead>\n",
       "  <tbody>\n",
       "    <tr>\n",
       "      <th>443</th>\n",
       "      <td>HD 13189 b</td>\n",
       "      <td>4.5</td>\n",
       "      <td>14.0</td>\n",
       "    </tr>\n",
       "  </tbody>\n",
       "</table>\n",
       "</div>"
      ],
      "text/plain": [
       "    PlanetIdentifier  HostStarMassSlrMass  PlanetaryMassJpt\n",
       "443       HD 13189 b                  4.5              14.0"
      ]
     },
     "execution_count": 119,
     "metadata": {},
     "output_type": "execute_result"
    }
   ],
   "source": [
    "planet[['PlanetIdentifier','HostStarMassSlrMass','PlanetaryMassJpt']][planet.HostStarMassSlrMass == planet.HostStarMassSlrMass.max()]"
   ]
  },
  {
   "cell_type": "code",
   "execution_count": 123,
   "metadata": {},
   "outputs": [],
   "source": [
    "plstmass = planet[['HostStarMassSlrMass', 'PlanetaryMassJpt']]\n",
    "plstmass = plstmass.dropna()"
   ]
  },
  {
   "cell_type": "code",
   "execution_count": 124,
   "metadata": {},
   "outputs": [
    {
     "data": {
      "image/png": "[encoded data removed]",
      "text/plain": [
       "<Figure size 576x432 with 1 Axes>"
      ]
     },
     "metadata": {},
     "output_type": "display_data"
    }
   ],
   "source": [
    "g2 = sns.pairplot(plstmass, x_vars = ['HostStarMassSlrMass'], y_vars = ['PlanetaryMassJpt'], kind = 'reg')\n",
    "g2.fig.set_size_inches(8, 6)\n",
    "plt.show()"
   ]
  },
  {
   "cell_type": "raw",
   "metadata": {},
   "source": [
    "Based on planetary mass versus the star mass it appears that most of the stars are similar to Earth's sun, but the planets on average are much larger than Earth."
   ]
  },
  {
   "cell_type": "code",
   "execution_count": 61,
   "metadata": {},
   "outputs": [
    {
     "data": {
      "text/plain": [
       "count     3584.000000\n",
       "mean       665.757924\n",
       "std        960.075884\n",
       "min      -5123.287717\n",
       "25%         89.950000\n",
       "50%        482.880000\n",
       "75%       1025.720000\n",
       "max      16594.866384\n",
       "Name: DistFromSunParsec, dtype: float64"
      ]
     },
     "execution_count": 61,
     "metadata": {},
     "output_type": "execute_result"
    }
   ],
   "source": [
    "planet.DistFromSunParsec.describe()"
   ]
  },
  {
   "cell_type": "code",
   "execution_count": 62,
   "metadata": {},
   "outputs": [
    {
     "data": {
      "text/plain": [
       "104    2254.262308\n",
       "Name: DistFromSunParsec, dtype: float64"
      ]
     },
     "execution_count": 62,
     "metadata": {},
     "output_type": "execute_result"
    }
   ],
   "source": [
    "planet[planet.PlanetIdentifier == 'Earth'].DistFromSunParsec"
   ]
  },
  {
   "cell_type": "code",
   "execution_count": 63,
   "metadata": {},
   "outputs": [
    {
     "data": {
      "text/plain": [
       "3584"
      ]
     },
     "execution_count": 63,
     "metadata": {},
     "output_type": "execute_result"
    }
   ],
   "source": [
    "parsec = planet.DistFromSunParsec.dropna()\n",
    "len(parsec)"
   ]
  },
  {
   "cell_type": "code",
   "execution_count": 125,
   "metadata": {},
   "outputs": [
    {
     "data": {
      "image/png": "[encoded data removed]",
      "text/plain": [
       "<Figure size 432x288 with 1 Axes>"
      ]
     },
     "metadata": {},
     "output_type": "display_data"
    }
   ],
   "source": [
    "parsec.hist(bins = len(parsec))\n",
    "plt.xlim(-2000,2020)\n",
    "plt.xlabel('Number of Planets')\n",
    "plt.ylabel('Distance from the star')\n",
    "plt.show()"
   ]
  },
  {
   "cell_type": "raw",
   "metadata": {},
   "source": [
    "Planets that we are observing are very close to our star the sun.  Therefore, there are many opportunities to find even more planets that could possibly host life."
   ]
  },
  {
   "cell_type": "code",
   "execution_count": 65,
   "metadata": {},
   "outputs": [
    {
     "data": {
      "text/html": [
       "<div>\n",
       "<style scoped>\n",
       "    .dataframe tbody tr th:only-of-type {\n",
       "        vertical-align: middle;\n",
       "    }\n",
       "\n",
       "    .dataframe tbody tr th {\n",
       "        vertical-align: top;\n",
       "    }\n",
       "\n",
       "    .dataframe thead th {\n",
       "        text-align: right;\n",
       "    }\n",
       "</style>\n",
       "<table border=\"1\" class=\"dataframe\">\n",
       "  <thead>\n",
       "    <tr style=\"text-align: right;\">\n",
       "      <th></th>\n",
       "      <th>PlanetIdentifier</th>\n",
       "      <th>TypeFlag</th>\n",
       "      <th>PlanetaryMassJpt</th>\n",
       "      <th>RadiusJpt</th>\n",
       "      <th>PeriodDays</th>\n",
       "      <th>SemiMajorAxisAU</th>\n",
       "      <th>Eccentricity</th>\n",
       "      <th>PeriastronDeg</th>\n",
       "      <th>LongitudeDeg</th>\n",
       "      <th>AscendingNodeDeg</th>\n",
       "      <th>...</th>\n",
       "      <th>RightAscension</th>\n",
       "      <th>Declination</th>\n",
       "      <th>DistFromSunParsec</th>\n",
       "      <th>HostStarMassSlrMass</th>\n",
       "      <th>HostStarRadiusSlrRad</th>\n",
       "      <th>HostStarMetallicity</th>\n",
       "      <th>HostStarTempK</th>\n",
       "      <th>HostStarAgeGyr</th>\n",
       "      <th>ListsPlanetIsOn</th>\n",
       "      <th>Probability_of_life</th>\n",
       "    </tr>\n",
       "  </thead>\n",
       "  <tbody>\n",
       "    <tr>\n",
       "      <th>3368</th>\n",
       "      <td>Proxima Centauri b</td>\n",
       "      <td>2</td>\n",
       "      <td>0.004089</td>\n",
       "      <td>-0.322824</td>\n",
       "      <td>11.186</td>\n",
       "      <td>0.0485</td>\n",
       "      <td>0.191716</td>\n",
       "      <td>161.715439</td>\n",
       "      <td>110.0</td>\n",
       "      <td>382.144661</td>\n",
       "      <td>...</td>\n",
       "      <td>14 39 36.204</td>\n",
       "      <td>-60 50 08.23</td>\n",
       "      <td>1.295</td>\n",
       "      <td>0.12</td>\n",
       "      <td>0.141</td>\n",
       "      <td>0.090978</td>\n",
       "      <td>3050.0</td>\n",
       "      <td>5.611431</td>\n",
       "      <td>Confirmed planets, Planets in binary systems, ...</td>\n",
       "      <td>0</td>\n",
       "    </tr>\n",
       "  </tbody>\n",
       "</table>\n",
       "<p>1 rows × 26 columns</p>\n",
       "</div>"
      ],
      "text/plain": [
       "        PlanetIdentifier  TypeFlag  PlanetaryMassJpt  RadiusJpt  PeriodDays  \\\n",
       "3368  Proxima Centauri b         2          0.004089  -0.322824      11.186   \n",
       "\n",
       "      SemiMajorAxisAU  Eccentricity  PeriastronDeg  LongitudeDeg  \\\n",
       "3368           0.0485      0.191716     161.715439         110.0   \n",
       "\n",
       "      AscendingNodeDeg         ...           RightAscension   Declination  \\\n",
       "3368        382.144661         ...             14 39 36.204  -60 50 08.23   \n",
       "\n",
       "      DistFromSunParsec HostStarMassSlrMass  HostStarRadiusSlrRad  \\\n",
       "3368              1.295                0.12                 0.141   \n",
       "\n",
       "     HostStarMetallicity HostStarTempK HostStarAgeGyr  \\\n",
       "3368            0.090978        3050.0       5.611431   \n",
       "\n",
       "                                        ListsPlanetIsOn  Probability_of_life  \n",
       "3368  Confirmed planets, Planets in binary systems, ...                    0  \n",
       "\n",
       "[1 rows x 26 columns]"
      ]
     },
     "execution_count": 65,
     "metadata": {},
     "output_type": "execute_result"
    }
   ],
   "source": [
    "planet[planet.PlanetIdentifier.str.contains('Proxima')]"
   ]
  },
  {
   "cell_type": "code",
   "execution_count": 66,
   "metadata": {},
   "outputs": [
    {
     "data": {
      "text/html": [
       "<div>\n",
       "<style scoped>\n",
       "    .dataframe tbody tr th:only-of-type {\n",
       "        vertical-align: middle;\n",
       "    }\n",
       "\n",
       "    .dataframe tbody tr th {\n",
       "        vertical-align: top;\n",
       "    }\n",
       "\n",
       "    .dataframe thead th {\n",
       "        text-align: right;\n",
       "    }\n",
       "</style>\n",
       "<table border=\"1\" class=\"dataframe\">\n",
       "  <thead>\n",
       "    <tr style=\"text-align: right;\">\n",
       "      <th></th>\n",
       "      <th>PlanetIdentifier</th>\n",
       "      <th>TypeFlag</th>\n",
       "      <th>PlanetaryMassJpt</th>\n",
       "      <th>RadiusJpt</th>\n",
       "      <th>PeriodDays</th>\n",
       "      <th>SemiMajorAxisAU</th>\n",
       "      <th>Eccentricity</th>\n",
       "      <th>PeriastronDeg</th>\n",
       "      <th>LongitudeDeg</th>\n",
       "      <th>AscendingNodeDeg</th>\n",
       "      <th>...</th>\n",
       "      <th>RightAscension</th>\n",
       "      <th>Declination</th>\n",
       "      <th>DistFromSunParsec</th>\n",
       "      <th>HostStarMassSlrMass</th>\n",
       "      <th>HostStarRadiusSlrRad</th>\n",
       "      <th>HostStarMetallicity</th>\n",
       "      <th>HostStarTempK</th>\n",
       "      <th>HostStarAgeGyr</th>\n",
       "      <th>ListsPlanetIsOn</th>\n",
       "      <th>Probability_of_life</th>\n",
       "    </tr>\n",
       "  </thead>\n",
       "  <tbody>\n",
       "    <tr>\n",
       "      <th>104</th>\n",
       "      <td>Earth</td>\n",
       "      <td>0</td>\n",
       "      <td>0.003146</td>\n",
       "      <td>0.09113</td>\n",
       "      <td>365.2422</td>\n",
       "      <td>1.0</td>\n",
       "      <td>0.016732</td>\n",
       "      <td>102.930059</td>\n",
       "      <td>100.466916</td>\n",
       "      <td>-5.112604</td>\n",
       "      <td>...</td>\n",
       "      <td>NaN</td>\n",
       "      <td>NaN</td>\n",
       "      <td>2254.262308</td>\n",
       "      <td>1.0</td>\n",
       "      <td>1.0</td>\n",
       "      <td>1.000000e-08</td>\n",
       "      <td>5778.0</td>\n",
       "      <td>4.57</td>\n",
       "      <td>Solar System</td>\n",
       "      <td>1</td>\n",
       "    </tr>\n",
       "  </tbody>\n",
       "</table>\n",
       "<p>1 rows × 26 columns</p>\n",
       "</div>"
      ],
      "text/plain": [
       "    PlanetIdentifier  TypeFlag  PlanetaryMassJpt  RadiusJpt  PeriodDays  \\\n",
       "104            Earth         0          0.003146    0.09113    365.2422   \n",
       "\n",
       "     SemiMajorAxisAU  Eccentricity  PeriastronDeg  LongitudeDeg  \\\n",
       "104              1.0      0.016732     102.930059    100.466916   \n",
       "\n",
       "     AscendingNodeDeg         ...           RightAscension  Declination  \\\n",
       "104         -5.112604         ...                      NaN          NaN   \n",
       "\n",
       "     DistFromSunParsec HostStarMassSlrMass  HostStarRadiusSlrRad  \\\n",
       "104        2254.262308                 1.0                   1.0   \n",
       "\n",
       "    HostStarMetallicity HostStarTempK HostStarAgeGyr  ListsPlanetIsOn  \\\n",
       "104        1.000000e-08        5778.0           4.57     Solar System   \n",
       "\n",
       "     Probability_of_life  \n",
       "104                    1  \n",
       "\n",
       "[1 rows x 26 columns]"
      ]
     },
     "execution_count": 66,
     "metadata": {},
     "output_type": "execute_result"
    }
   ],
   "source": [
    "planet[planet.PlanetIdentifier.str.contains('Earth')]"
   ]
  },
  {
   "cell_type": "code",
   "execution_count": 67,
   "metadata": {},
   "outputs": [
    {
     "name": "stdout",
     "output_type": "stream",
     "text": [
      "<class 'pandas.core.frame.DataFrame'>\n",
      "RangeIndex: 3584 entries, 0 to 3583\n",
      "Data columns (total 26 columns):\n",
      "PlanetIdentifier        3584 non-null object\n",
      "TypeFlag                3584 non-null int64\n",
      "PlanetaryMassJpt        3584 non-null float64\n",
      "RadiusJpt               3584 non-null float64\n",
      "PeriodDays              3584 non-null float64\n",
      "SemiMajorAxisAU         3584 non-null float64\n",
      "Eccentricity            3584 non-null float64\n",
      "PeriastronDeg           3584 non-null float64\n",
      "LongitudeDeg            3584 non-null float64\n",
      "AscendingNodeDeg        3584 non-null float64\n",
      "InclinationDeg          3584 non-null float64\n",
      "SurfaceTempK            3584 non-null float64\n",
      "AgeGyr                  3584 non-null float64\n",
      "DiscoveryMethod         3521 non-null object\n",
      "DiscoveryYear           3584 non-null float64\n",
      "LastUpdated             3576 non-null object\n",
      "RightAscension          3574 non-null object\n",
      "Declination             3574 non-null object\n",
      "DistFromSunParsec       3584 non-null float64\n",
      "HostStarMassSlrMass     3584 non-null float64\n",
      "HostStarRadiusSlrRad    3584 non-null float64\n",
      "HostStarMetallicity     3584 non-null float64\n",
      "HostStarTempK           3584 non-null float64\n",
      "HostStarAgeGyr          3584 non-null float64\n",
      "ListsPlanetIsOn         3584 non-null object\n",
      "Probability_of_life     3584 non-null int64\n",
      "dtypes: float64(18), int64(2), object(6)\n",
      "memory usage: 728.1+ KB\n"
     ]
    }
   ],
   "source": [
    "planet.info()"
   ]
  },
  {
   "cell_type": "code",
   "execution_count": 68,
   "metadata": {},
   "outputs": [],
   "source": [
    "dum = pd.get_dummies(planet.DiscoveryMethod)\n",
    "planet = pd.concat([planet, dum], axis = 1)\n",
    "planet = planet.drop('DiscoveryMethod', axis = 1)"
   ]
  },
  {
   "cell_type": "code",
   "execution_count": 69,
   "metadata": {},
   "outputs": [],
   "source": [
    "dum = pd.get_dummies(planet.ListsPlanetIsOn)\n",
    "planet = pd.concat([planet, dum], axis = 1)\n",
    "planet = planet.drop('ListsPlanetIsOn', axis = 1)"
   ]
  },
  {
   "cell_type": "code",
   "execution_count": 70,
   "metadata": {},
   "outputs": [],
   "source": [
    "planet = planet.drop(['LastUpdated', 'RightAscension', 'Declination'], axis = 1)"
   ]
  },
  {
   "cell_type": "code",
   "execution_count": 71,
   "metadata": {},
   "outputs": [],
   "source": [
    "X = planet.drop(['Probability_of_life','PlanetIdentifier'], axis = 1).values\n",
    "y = planet.Probability_of_life.values"
   ]
  },
  {
   "cell_type": "code",
   "execution_count": 72,
   "metadata": {},
   "outputs": [],
   "source": [
    "from sklearn.model_selection import train_test_split"
   ]
  },
  {
   "cell_type": "code",
   "execution_count": 73,
   "metadata": {},
   "outputs": [],
   "source": [
    "X_train, X_test, y_train, y_test = train_test_split(X,y, test_size = 0.2, random_state = 1)"
   ]
  },
  {
   "cell_type": "raw",
   "metadata": {},
   "source": [
    "Start of KNN model"
   ]
  },
  {
   "cell_type": "code",
   "execution_count": 74,
   "metadata": {},
   "outputs": [],
   "source": [
    "from sklearn.neighbors import KNeighborsClassifier #importing KNN"
   ]
  },
  {
   "cell_type": "code",
   "execution_count": 154,
   "metadata": {},
   "outputs": [
    {
     "name": "stdout",
     "output_type": "stream",
     "text": [
      "0.9274755927475593\n",
      "0.9274755927475593\n",
      "0.9246861924686193\n",
      "0.9260808926080892\n",
      "0.9288702928870293\n",
      "0.9288702928870293\n",
      "0.9330543933054394\n",
      "0.9302649930264993\n",
      "0.9344490934449093\n"
     ]
    }
   ],
   "source": [
    "for i in range(1,10): \n",
    "    knn = KNeighborsClassifier(n_neighbors = i)\n",
    "    knn.fit(X_train, y_train)\n",
    "    y_pred = knn.predict(X_test)\n",
    "    \n",
    "    print(accuracy_score(y_test, y_pred))"
   ]
  },
  {
   "cell_type": "raw",
   "metadata": {},
   "source": [
    "We were able to see that 9 was a better value giving us the highest score after using a loop using a range 1 to 10."
   ]
  },
  {
   "cell_type": "code",
   "execution_count": 162,
   "metadata": {},
   "outputs": [],
   "source": [
    "knn = KNeighborsClassifier(n_neighbors = 9)"
   ]
  },
  {
   "cell_type": "code",
   "execution_count": 163,
   "metadata": {},
   "outputs": [
    {
     "data": {
      "text/plain": [
       "KNeighborsClassifier(algorithm='auto', leaf_size=30, metric='minkowski',\n",
       "           metric_params=None, n_jobs=None, n_neighbors=9, p=2,\n",
       "           weights='uniform')"
      ]
     },
     "execution_count": 163,
     "metadata": {},
     "output_type": "execute_result"
    }
   ],
   "source": [
    "knn.fit(X_train, y_train)"
   ]
  },
  {
   "cell_type": "code",
   "execution_count": 164,
   "metadata": {},
   "outputs": [],
   "source": [
    "y_pred = knn.predict(X_test)"
   ]
  },
  {
   "cell_type": "code",
   "execution_count": 165,
   "metadata": {},
   "outputs": [],
   "source": [
    "from sklearn.metrics import accuracy_score\n",
    "from sklearn.metrics import classification_report\n",
    "from sklearn.metrics import confusion_matrix"
   ]
  },
  {
   "cell_type": "code",
   "execution_count": 166,
   "metadata": {},
   "outputs": [
    {
     "name": "stdout",
     "output_type": "stream",
     "text": [
      "0.9344490934449093\n",
      "              precision    recall  f1-score   support\n",
      "\n",
      "           0       0.94      0.98      0.96       642\n",
      "           1       0.79      0.51      0.62        75\n",
      "\n",
      "   micro avg       0.93      0.93      0.93       717\n",
      "   macro avg       0.87      0.75      0.79       717\n",
      "weighted avg       0.93      0.93      0.93       717\n",
      "\n",
      "[[632  10]\n",
      " [ 37  38]]\n"
     ]
    }
   ],
   "source": [
    "print(accuracy_score(y_test, y_pred))\n",
    "print(classification_report(y_test, y_pred))\n",
    "print(confusion_matrix(y_test, y_pred))"
   ]
  },
  {
   "cell_type": "raw",
   "metadata": {},
   "source": [
    "We are now going to use the Logistic Regression"
   ]
  },
  {
   "cell_type": "code",
   "execution_count": 167,
   "metadata": {},
   "outputs": [],
   "source": [
    "from sklearn.linear_model import LogisticRegression"
   ]
  },
  {
   "cell_type": "code",
   "execution_count": 168,
   "metadata": {},
   "outputs": [],
   "source": [
    "logreg = LogisticRegression()"
   ]
  },
  {
   "cell_type": "code",
   "execution_count": 169,
   "metadata": {},
   "outputs": [
    {
     "data": {
      "text/plain": [
       "LogisticRegression(C=1.0, class_weight=None, dual=False, fit_intercept=True,\n",
       "          intercept_scaling=1, max_iter=100, multi_class='warn',\n",
       "          n_jobs=None, penalty='l2', random_state=None, solver='warn',\n",
       "          tol=0.0001, verbose=0, warm_start=False)"
      ]
     },
     "execution_count": 169,
     "metadata": {},
     "output_type": "execute_result"
    }
   ],
   "source": [
    "logreg.fit(X_train, y_train)"
   ]
  },
  {
   "cell_type": "code",
   "execution_count": 170,
   "metadata": {},
   "outputs": [],
   "source": [
    "y_pred = logreg.predict(X_test)"
   ]
  },
  {
   "cell_type": "code",
   "execution_count": 171,
   "metadata": {},
   "outputs": [
    {
     "name": "stdout",
     "output_type": "stream",
     "text": [
      "0.9665271966527197\n",
      "[[636   6]\n",
      " [ 18  57]]\n"
     ]
    }
   ],
   "source": [
    "print(accuracy_score(y_test, y_pred))\n",
    "print(confusion_matrix(y_test, y_pred))"
   ]
  },
  {
   "cell_type": "raw",
   "metadata": {},
   "source": [
    "The accuracy score tells us whether the planet has a chance of life with 94.97% accuracy."
   ]
  },
  {
   "cell_type": "raw",
   "metadata": {},
   "source": [
    "We will now be using the naive bayes model"
   ]
  },
  {
   "cell_type": "code",
   "execution_count": 90,
   "metadata": {},
   "outputs": [],
   "source": [
    "from sklearn.naive_bayes import GaussianNB"
   ]
  },
  {
   "cell_type": "code",
   "execution_count": 91,
   "metadata": {},
   "outputs": [],
   "source": [
    "gnb = GaussianNB()"
   ]
  },
  {
   "cell_type": "code",
   "execution_count": 92,
   "metadata": {},
   "outputs": [
    {
     "data": {
      "text/plain": [
       "GaussianNB(priors=None, var_smoothing=1e-09)"
      ]
     },
     "execution_count": 92,
     "metadata": {},
     "output_type": "execute_result"
    }
   ],
   "source": [
    "gnb.fit(X_train, y_train)"
   ]
  },
  {
   "cell_type": "code",
   "execution_count": 93,
   "metadata": {},
   "outputs": [],
   "source": [
    "y_pred = gnb.predict(X_test)"
   ]
  },
  {
   "cell_type": "code",
   "execution_count": 128,
   "metadata": {},
   "outputs": [
    {
     "name": "stdout",
     "output_type": "stream",
     "text": [
      "0.9497907949790795\n",
      "[[639   3]\n",
      " [ 33  42]]\n"
     ]
    }
   ],
   "source": [
    "print(accuracy_score(y_test, y_pred))\n",
    "print(confusion_matrix(y_test, y_pred))"
   ]
  },
  {
   "cell_type": "raw",
   "metadata": {},
   "source": [
    "We will now make a model decsion tree"
   ]
  },
  {
   "cell_type": "code",
   "execution_count": 96,
   "metadata": {},
   "outputs": [],
   "source": [
    "from sklearn import tree"
   ]
  },
  {
   "cell_type": "code",
   "execution_count": 97,
   "metadata": {},
   "outputs": [],
   "source": [
    "clf = tree.DecisionTreeClassifier()"
   ]
  },
  {
   "cell_type": "code",
   "execution_count": 98,
   "metadata": {},
   "outputs": [
    {
     "data": {
      "text/plain": [
       "DecisionTreeClassifier(class_weight=None, criterion='gini', max_depth=None,\n",
       "            max_features=None, max_leaf_nodes=None,\n",
       "            min_impurity_decrease=0.0, min_impurity_split=None,\n",
       "            min_samples_leaf=1, min_samples_split=2,\n",
       "            min_weight_fraction_leaf=0.0, presort=False, random_state=None,\n",
       "            splitter='best')"
      ]
     },
     "execution_count": 98,
     "metadata": {},
     "output_type": "execute_result"
    }
   ],
   "source": [
    "clf.fit(X_train, y_train)"
   ]
  },
  {
   "cell_type": "code",
   "execution_count": 99,
   "metadata": {},
   "outputs": [],
   "source": [
    "y_pred = clf.predict(X_test)"
   ]
  },
  {
   "cell_type": "code",
   "execution_count": 129,
   "metadata": {},
   "outputs": [
    {
     "name": "stdout",
     "output_type": "stream",
     "text": [
      "0.9497907949790795\n",
      "[[639   3]\n",
      " [ 33  42]]\n"
     ]
    }
   ],
   "source": [
    "print(accuracy_score(y_test, y_pred))\n",
    "print(confusion_matrix(y_test, y_pred))"
   ]
  },
  {
   "cell_type": "raw",
   "metadata": {},
   "source": [
    "We will now make a new model called random forest"
   ]
  },
  {
   "cell_type": "code",
   "execution_count": 102,
   "metadata": {},
   "outputs": [],
   "source": [
    "from sklearn.ensemble import RandomForestClassifier"
   ]
  },
  {
   "cell_type": "code",
   "execution_count": 138,
   "metadata": {},
   "outputs": [],
   "source": [
    "list=[]\n",
    "ival = range(1, 100)\n",
    "jval = range(1,100)\n",
    "for i,j in zip(ival, jval): \n",
    "    clfr = RandomForestClassifier(n_estimators = i, max_depth = j, random_state = 1)\n",
    "    clfr.fit(X_train, y_train)\n",
    "    y_pred = clfr.predict(X_test)\n",
    "    \n",
    "    list.append((accuracy_score(y_test, y_pred)))"
   ]
  },
  {
   "cell_type": "code",
   "execution_count": 139,
   "metadata": {},
   "outputs": [],
   "source": [
    "list = pd.DataFrame(list)"
   ]
  },
  {
   "cell_type": "code",
   "execution_count": 140,
   "metadata": {},
   "outputs": [
    {
     "data": {
      "text/html": [
       "<div>\n",
       "<style scoped>\n",
       "    .dataframe tbody tr th:only-of-type {\n",
       "        vertical-align: middle;\n",
       "    }\n",
       "\n",
       "    .dataframe tbody tr th {\n",
       "        vertical-align: top;\n",
       "    }\n",
       "\n",
       "    .dataframe thead th {\n",
       "        text-align: right;\n",
       "    }\n",
       "</style>\n",
       "<table border=\"1\" class=\"dataframe\">\n",
       "  <thead>\n",
       "    <tr style=\"text-align: right;\">\n",
       "      <th></th>\n",
       "      <th>0</th>\n",
       "    </tr>\n",
       "  </thead>\n",
       "  <tbody>\n",
       "    <tr>\n",
       "      <th>53</th>\n",
       "      <td>0.95537</td>\n",
       "    </tr>\n",
       "    <tr>\n",
       "      <th>55</th>\n",
       "      <td>0.95537</td>\n",
       "    </tr>\n",
       "    <tr>\n",
       "      <th>57</th>\n",
       "      <td>0.95537</td>\n",
       "    </tr>\n",
       "    <tr>\n",
       "      <th>58</th>\n",
       "      <td>0.95537</td>\n",
       "    </tr>\n",
       "  </tbody>\n",
       "</table>\n",
       "</div>"
      ],
      "text/plain": [
       "          0\n",
       "53  0.95537\n",
       "55  0.95537\n",
       "57  0.95537\n",
       "58  0.95537"
      ]
     },
     "execution_count": 140,
     "metadata": {},
     "output_type": "execute_result"
    }
   ],
   "source": [
    "list[list == list.max()].dropna()"
   ]
  },
  {
   "cell_type": "code",
   "execution_count": 149,
   "metadata": {},
   "outputs": [],
   "source": [
    "clfr = RandomForestClassifier(n_estimators = 57, max_depth =57, random_state = 1)"
   ]
  },
  {
   "cell_type": "code",
   "execution_count": 150,
   "metadata": {},
   "outputs": [
    {
     "data": {
      "text/plain": [
       "RandomForestClassifier(bootstrap=True, class_weight=None, criterion='gini',\n",
       "            max_depth=57, max_features='auto', max_leaf_nodes=None,\n",
       "            min_impurity_decrease=0.0, min_impurity_split=None,\n",
       "            min_samples_leaf=1, min_samples_split=2,\n",
       "            min_weight_fraction_leaf=0.0, n_estimators=57, n_jobs=None,\n",
       "            oob_score=False, random_state=1, verbose=0, warm_start=False)"
      ]
     },
     "execution_count": 150,
     "metadata": {},
     "output_type": "execute_result"
    }
   ],
   "source": [
    "clfr.fit(X_train, y_train)"
   ]
  },
  {
   "cell_type": "code",
   "execution_count": 151,
   "metadata": {},
   "outputs": [],
   "source": [
    "y_pred = clfr.predict(X_test)"
   ]
  },
  {
   "cell_type": "code",
   "execution_count": 152,
   "metadata": {},
   "outputs": [
    {
     "data": {
      "text/plain": [
       "0.9539748953974896"
      ]
     },
     "execution_count": 152,
     "metadata": {},
     "output_type": "execute_result"
    }
   ],
   "source": [
    "accuracy_score(y_test, y_pred)"
   ]
  },
  {
   "cell_type": "raw",
   "metadata": {},
   "source": [
    "The accuracy score that produced the best result is Random Forest Classifier with an accuracy score of 95.4%.\n",
    "This model will tell us iof a new planet can host life with a 95.4% accuracy."
   ]
  }
 ],
 "metadata": {
  "kernelspec": {
   "display_name": "Python 3",
   "language": "python",
   "name": "python3"
  },
  "language_info": {
   "codemirror_mode": {
    "name": "ipython",
    "version": 3
   },
   "file_extension": ".py",
   "mimetype": "text/x-python",
   "name": "python",
   "nbconvert_exporter": "python",
   "pygments_lexer": "ipython3",
   "version": "3.6.5"
  }
 },
 "nbformat": 4,
 "nbformat_minor": 2
}
